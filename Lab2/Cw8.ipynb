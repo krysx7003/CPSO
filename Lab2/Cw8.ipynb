{
 "cells": [
  {
   "cell_type": "code",
   "execution_count": 1,
   "metadata": {},
   "outputs": [],
   "source": [
    "import matplotlib.pyplot as plt\n",
    "import cv2  \n",
    "from skimage import exposure\n",
    "import skimage.morphology as morp\n",
    "from skimage.filters import rank"
   ]
  },
  {
   "cell_type": "code",
   "execution_count": 2,
   "metadata": {},
   "outputs": [],
   "source": [
    "# Załadowanie pliku .tiff\n",
    "img = cv2.imread(\"src/hidden-symbols.tif\") "
   ]
  },
  {
   "cell_type": "code",
   "execution_count": 3,
   "metadata": {},
   "outputs": [
    {
     "ename": "ValueError",
     "evalue": "Image dimensions and neighborhood dimensionsdo not match",
     "output_type": "error",
     "traceback": [
      "\u001b[31m---------------------------------------------------------------------------\u001b[39m",
      "\u001b[31mValueError\u001b[39m                                Traceback (most recent call last)",
      "\u001b[36mCell\u001b[39m\u001b[36m \u001b[39m\u001b[32mIn[3]\u001b[39m\u001b[32m, line 2\u001b[39m\n\u001b[32m      1\u001b[39m \u001b[38;5;66;03m#Wyświetlenie załadowanego obrazu\u001b[39;00m\n\u001b[32m----> \u001b[39m\u001b[32m2\u001b[39m img_local = \u001b[43mrank\u001b[49m\u001b[43m.\u001b[49m\u001b[43mequalize\u001b[49m\u001b[43m(\u001b[49m\u001b[43mimg\u001b[49m\u001b[43m,\u001b[49m\u001b[43m \u001b[49m\u001b[43mmorp\u001b[49m\u001b[43m.\u001b[49m\u001b[43mdisk\u001b[49m\u001b[43m(\u001b[49m\u001b[32;43m5\u001b[39;49m\u001b[43m)\u001b[49m\u001b[43m)\u001b[49m\n\u001b[32m      3\u001b[39m img_stat = exposure.equalize_adapthist(img, clip_limit=\u001b[32m0.15\u001b[39m)\n\u001b[32m      5\u001b[39m plt.figure()\n",
      "\u001b[36mFile \u001b[39m\u001b[32m~/HDD/Studia/CPSO/CPSO/venv/lib/python3.12/site-packages/skimage/filters/rank/generic.py:556\u001b[39m, in \u001b[36mequalize\u001b[39m\u001b[34m(image, footprint, out, mask, shift_x, shift_y, shift_z)\u001b[39m\n\u001b[32m    546\u001b[39m     \u001b[38;5;28;01mreturn\u001b[39;00m _apply_scalar_per_pixel(\n\u001b[32m    547\u001b[39m         generic_cy._equalize,\n\u001b[32m    548\u001b[39m         image,\n\u001b[32m   (...)\u001b[39m\u001b[32m    553\u001b[39m         shift_y=shift_y,\n\u001b[32m    554\u001b[39m     )\n\u001b[32m    555\u001b[39m \u001b[38;5;28;01melif\u001b[39;00m np_image.ndim == \u001b[32m3\u001b[39m:\n\u001b[32m--> \u001b[39m\u001b[32m556\u001b[39m     \u001b[38;5;28;01mreturn\u001b[39;00m \u001b[43m_apply_scalar_per_pixel_3D\u001b[49m\u001b[43m(\u001b[49m\n\u001b[32m    557\u001b[39m \u001b[43m        \u001b[49m\u001b[43mgeneric_cy\u001b[49m\u001b[43m.\u001b[49m\u001b[43m_equalize_3D\u001b[49m\u001b[43m,\u001b[49m\n\u001b[32m    558\u001b[39m \u001b[43m        \u001b[49m\u001b[43mimage\u001b[49m\u001b[43m,\u001b[49m\n\u001b[32m    559\u001b[39m \u001b[43m        \u001b[49m\u001b[43mfootprint\u001b[49m\u001b[43m,\u001b[49m\n\u001b[32m    560\u001b[39m \u001b[43m        \u001b[49m\u001b[43mout\u001b[49m\u001b[43m=\u001b[49m\u001b[43mout\u001b[49m\u001b[43m,\u001b[49m\n\u001b[32m    561\u001b[39m \u001b[43m        \u001b[49m\u001b[43mmask\u001b[49m\u001b[43m=\u001b[49m\u001b[43mmask\u001b[49m\u001b[43m,\u001b[49m\n\u001b[32m    562\u001b[39m \u001b[43m        \u001b[49m\u001b[43mshift_x\u001b[49m\u001b[43m=\u001b[49m\u001b[43mshift_x\u001b[49m\u001b[43m,\u001b[49m\n\u001b[32m    563\u001b[39m \u001b[43m        \u001b[49m\u001b[43mshift_y\u001b[49m\u001b[43m=\u001b[49m\u001b[43mshift_y\u001b[49m\u001b[43m,\u001b[49m\n\u001b[32m    564\u001b[39m \u001b[43m        \u001b[49m\u001b[43mshift_z\u001b[49m\u001b[43m=\u001b[49m\u001b[43mshift_z\u001b[49m\u001b[43m,\u001b[49m\n\u001b[32m    565\u001b[39m \u001b[43m    \u001b[49m\u001b[43m)\u001b[49m\n\u001b[32m    566\u001b[39m \u001b[38;5;28;01mraise\u001b[39;00m \u001b[38;5;167;01mValueError\u001b[39;00m(\u001b[33mf\u001b[39m\u001b[33m'\u001b[39m\u001b[33m`image` must have 2 or 3 dimensions, got \u001b[39m\u001b[38;5;132;01m{\u001b[39;00mnp_image.ndim\u001b[38;5;132;01m}\u001b[39;00m\u001b[33m.\u001b[39m\u001b[33m'\u001b[39m)\n",
      "\u001b[36mFile \u001b[39m\u001b[32m~/HDD/Studia/CPSO/CPSO/venv/lib/python3.12/site-packages/skimage/filters/rank/generic.py:353\u001b[39m, in \u001b[36m_apply_scalar_per_pixel_3D\u001b[39m\u001b[34m(func, image, footprint, out, mask, shift_x, shift_y, shift_z, out_dtype)\u001b[39m\n\u001b[32m    350\u001b[39m \u001b[38;5;28;01mdef\u001b[39;00m\u001b[38;5;250m \u001b[39m\u001b[34m_apply_scalar_per_pixel_3D\u001b[39m(\n\u001b[32m    351\u001b[39m     func, image, footprint, out, mask, shift_x, shift_y, shift_z, out_dtype=\u001b[38;5;28;01mNone\u001b[39;00m\n\u001b[32m    352\u001b[39m ):\n\u001b[32m--> \u001b[39m\u001b[32m353\u001b[39m     image, footprint, out, mask, n_bins = \u001b[43m_handle_input_3D\u001b[49m\u001b[43m(\u001b[49m\n\u001b[32m    354\u001b[39m \u001b[43m        \u001b[49m\u001b[43mimage\u001b[49m\u001b[43m,\u001b[49m\n\u001b[32m    355\u001b[39m \u001b[43m        \u001b[49m\u001b[43mfootprint\u001b[49m\u001b[43m,\u001b[49m\n\u001b[32m    356\u001b[39m \u001b[43m        \u001b[49m\u001b[43mout\u001b[49m\u001b[43m,\u001b[49m\n\u001b[32m    357\u001b[39m \u001b[43m        \u001b[49m\u001b[43mmask\u001b[49m\u001b[43m,\u001b[49m\n\u001b[32m    358\u001b[39m \u001b[43m        \u001b[49m\u001b[43mout_dtype\u001b[49m\u001b[43m,\u001b[49m\n\u001b[32m    359\u001b[39m \u001b[43m        \u001b[49m\u001b[43mshift_x\u001b[49m\u001b[43m=\u001b[49m\u001b[43mshift_x\u001b[49m\u001b[43m,\u001b[49m\n\u001b[32m    360\u001b[39m \u001b[43m        \u001b[49m\u001b[43mshift_y\u001b[49m\u001b[43m=\u001b[49m\u001b[43mshift_y\u001b[49m\u001b[43m,\u001b[49m\n\u001b[32m    361\u001b[39m \u001b[43m        \u001b[49m\u001b[43mshift_z\u001b[49m\u001b[43m=\u001b[49m\u001b[43mshift_z\u001b[49m\u001b[43m,\u001b[49m\n\u001b[32m    362\u001b[39m \u001b[43m    \u001b[49m\u001b[43m)\u001b[49m\n\u001b[32m    364\u001b[39m     func(\n\u001b[32m    365\u001b[39m         image,\n\u001b[32m    366\u001b[39m         footprint,\n\u001b[32m   (...)\u001b[39m\u001b[32m    372\u001b[39m         n_bins=n_bins,\n\u001b[32m    373\u001b[39m     )\n\u001b[32m    375\u001b[39m     \u001b[38;5;28;01mreturn\u001b[39;00m out.reshape(out.shape[:\u001b[32m3\u001b[39m])\n",
      "\u001b[36mFile \u001b[39m\u001b[32m~/HDD/Studia/CPSO/CPSO/venv/lib/python3.12/site-packages/skimage/filters/rank/generic.py:255\u001b[39m, in \u001b[36m_handle_input_3D\u001b[39m\u001b[34m(image, footprint, out, mask, out_dtype, pixel_size, shift_x, shift_y, shift_z)\u001b[39m\n\u001b[32m    253\u001b[39m footprint = np.ascontiguousarray(img_as_ubyte(footprint > \u001b[32m0\u001b[39m))\n\u001b[32m    254\u001b[39m \u001b[38;5;28;01mif\u001b[39;00m footprint.ndim != image.ndim:\n\u001b[32m--> \u001b[39m\u001b[32m255\u001b[39m     \u001b[38;5;28;01mraise\u001b[39;00m \u001b[38;5;167;01mValueError\u001b[39;00m(\u001b[33m'\u001b[39m\u001b[33mImage dimensions and neighborhood dimensions\u001b[39m\u001b[33m'\u001b[39m \u001b[33m'\u001b[39m\u001b[33mdo not match\u001b[39m\u001b[33m'\u001b[39m)\n\u001b[32m    256\u001b[39m image = np.ascontiguousarray(image)\n\u001b[32m    258\u001b[39m \u001b[38;5;28;01mif\u001b[39;00m mask \u001b[38;5;129;01mis\u001b[39;00m \u001b[38;5;28;01mNone\u001b[39;00m:\n",
      "\u001b[31mValueError\u001b[39m: Image dimensions and neighborhood dimensionsdo not match"
     ]
    }
   ],
   "source": [
    "#Wyświetlenie załadowanego obrazu\n",
    "img_local = rank.equalize(img, morp.disk(5))\n",
    "img_stat = exposure.equalize_adapthist(img, clip_limit=0.15)\n",
    "\n",
    "plt.figure()\n",
    "plt.subplot(1,3,1)\n",
    "plt.imshow(img)\n",
    "\n",
    "plt.subplot(1,3,2)\n",
    "plt.imshow(img_local)\n",
    "\n",
    "plt.subplot(1,3,3)\n",
    "plt.imshow(img_stat)\n",
    "\n",
    "plt.tight_layout()\n",
    "plt.show()"
   ]
  }
 ],
 "metadata": {
  "kernelspec": {
   "display_name": "venv",
   "language": "python",
   "name": "python3"
  },
  "language_info": {
   "codemirror_mode": {
    "name": "ipython",
    "version": 3
   },
   "file_extension": ".py",
   "mimetype": "text/x-python",
   "name": "python",
   "nbconvert_exporter": "python",
   "pygments_lexer": "ipython3",
   "version": "3.12.3"
  }
 },
 "nbformat": 4,
 "nbformat_minor": 2
}
