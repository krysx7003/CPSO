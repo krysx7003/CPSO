{
 "cells": [
  {
   "cell_type": "code",
   "execution_count": null,
   "metadata": {},
   "outputs": [],
   "source": [
    "# Importy dla całego notesu(?)\n",
    "import pandas as pd\n",
    "import scipy as sci"
   ]
  },
  {
   "cell_type": "code",
   "execution_count": null,
   "metadata": {},
   "outputs": [],
   "source": [
    "# Ładowanie wybranego pliku\n",
    "file_name = \"..\\\\src\\\\\"+input(\"Podaj nazwe pliku z danymi: \")\n",
    "\n",
    "data_frame = pd.read_csv(file_name,sep=\" \",header=None)\n",
    "\n",
    "print(data_frame)"
   ]
  },
  {
   "cell_type": "markdown",
   "metadata": {},
   "source": [
    "# Teoria do EKG\n",
    "\n",
    "W przypadku gdy mamy 12 odprowadzeń pierwsze 6 to \n",
    "- I\n",
    "- II\n",
    "- III\n",
    "- aVL\n",
    "- aVR\n",
    "- aVF\n",
    "\n",
    "Natomiast kolejne 6 to V_1 - V_6\n",
    "\n",
    "#### Rys1\n",
    "Można to wyświetlić w taki sposób\n",
    " \n",
    "![Ekg](../src/rbbb0201573.png)\n",
    "\n",
    "#### Rys2\n",
    "\n",
    "rysunku jeszcze nie ma ale można dodać\n",
    "\n",
    "#### Rys3\n",
    "\n",
    "rysunku jeszcze nie ma ale można dodać"
   ]
  },
  {
   "cell_type": "code",
   "execution_count": null,
   "metadata": {},
   "outputs": [],
   "source": [
    "# Sprawdź liczbę kolumn\n",
    "\n",
    "#Jeżeli 12 to wyświetlamy jak rys 1\n",
    "#Jeżeli 1 to jak rys 2\n",
    "#Jeżeli 2 to jak rys 3\n"
   ]
  },
  {
   "cell_type": "code",
   "execution_count": null,
   "metadata": {},
   "outputs": [],
   "source": [
    "# Edycja wyświetlonego EKG"
   ]
  }
 ],
 "metadata": {
  "kernelspec": {
   "display_name": "Python 3",
   "language": "python",
   "name": "python3"
  },
  "language_info": {
   "codemirror_mode": {
    "name": "ipython",
    "version": 3
   },
   "file_extension": ".py",
   "mimetype": "text/x-python",
   "name": "python",
   "nbconvert_exporter": "python",
   "pygments_lexer": "ipython3",
   "version": "3.12.9"
  }
 },
 "nbformat": 4,
 "nbformat_minor": 2
}
